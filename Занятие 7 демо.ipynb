{
 "cells": [
  {
   "cell_type": "markdown",
   "metadata": {
    "id": "ncC7BjCHbZfF"
   },
   "source": [
    "# Занятие 7"
   ]
  },
  {
   "cell_type": "code",
   "execution_count": 1,
   "metadata": {
    "id": "iAPpcx9Gb2_u"
   },
   "outputs": [],
   "source": [
    "import numpy as np\n",
    "import pandas as pd\n",
    "from matplotlib import pyplot as plt\n",
    "import scipy.stats as sts  \n",
    "%matplotlib inline"
   ]
  },
  {
   "cell_type": "markdown",
   "metadata": {
    "id": "A9Mtb2pDC1yA"
   },
   "source": [
    "## Общий фреймворк проверки гипотез\n",
    "1. Формулировка основной гипотезы $H_{0}$ и конкурирующей гипотезы $H_1$.\n",
    "2. Задание уровня значимости $\\alpha$ , на котором в дальнейшем и будет сделан вывод о справедливости гипотезы. Он равен вероятности допустить ошибку первого рода.\n",
    "3. Расчёт статистики $\\phi$  критерия такой, что:\n",
    "* её величина зависит от исходной выборки $(X_{1},\\ldots ,X_{n}): \\phi =\\phi (X_{1},\\ldots ,X_{n})$\n",
    "* по её значению можно делать выводы об истинности гипотезы $H_{0}$\n",
    "* статистика $\\phi$, как функция случайной величины $\\mathbf {X}$, также является случайной величиной и подчиняется какому-то закону распределения.\n",
    "4. Построение критической области. Из области значений $\\phi$  выделяется подмножество $\\mathcal {C}$ таких значений, по которым можно судить о существенных расхождениях с предположением. Его размер выбирается таким образом, чтобы выполнялось равенство $P(\\phi \\in {\\mathcal {C}})=\\alpha$. Это множество $\\mathcal {C}$ и называется критической областью.\n",
    "5. Вывод об истинности гипотезы. Наблюдаемые значения выборки подставляются в статистику $\\phi$  и по попаданию (или непопаданию) в критическую область $\\mathcal {C}$ выносится решение об отвержении (или принятии) выдвинутой гипотезы $H_{0}$."
   ]
  },
  {
   "cell_type": "markdown",
   "metadata": {
    "id": "BEuJ2LbjdnE0"
   },
   "source": [
    "### Задача\n",
    "В десятизначной записи числа Пи среди 10000 первых десятичных знаков после запятой цифры 0,1,...,9 встречаются соответственно h=(968, 1026, 1021, 972, 1014, 1046, 1021, 970, 948, 1014) раз. Можно ли при уровне значимости 0.05 (величина ошибки 1-ого рода) считать эти цифры случайными?\n",
    "\n",
    "Решим эту задачу, воспользовавшись критерием согласия Пирсона хи-квадрат."
   ]
  },
  {
   "cell_type": "markdown",
   "metadata": {
    "id": "foeA4bY9dzz6"
   },
   "source": [
    "#### Критерий хи-квадрат\n",
    "На практике часто требуется проверить гипотезу $H_0$ о том, что выборка $\\mathbf{X} = (\\mathbf{X_1}, \\ldots, \\mathbf{X_n})$ получена из генеральной совокупности с функцией распределения $F(x)$. Относительно конкурирующей гипотезы каких-нибудь предположений не делается. В этом случае применяются *критерии согласия*, который строятя на основе выбора некоторой статистики $T = T(\\mathbf{X}, F)$, характеризующей отклонение эмпирических данных от соответствующих гипотезе $H_0$ гипотетических значений.\n",
    "\n",
    "**Как строится критерий согласия хи-квадрат? (Ивченко, Медведев)**\n",
    "\n",
    "Разобьем прямую на $s$ интервалов $z_0=-\\infty < z_1 < \\ldots < z_{s-1} < z_s = \\infty$. По известной функции F(x) (которую мы берем из утверждения нулевой гипотезы) вычисляем вероятности $p_i = F(z_i) - F(z_{i-1}),\\ i=1,\\ldots,s$.\n",
    "\n",
    "Пусть $h_i,\\ i=1,\\ldots,s$ -- это число тех $\\mathbf{X_j}$ из выборки $\\mathbf{X}\\ (j=1,\\ldots,n)$, которые удовлетворяют условию $z_{i-1} < \\mathbf{X_j} \\leq z_i$. Тогда при справедливости нулевой гипотезы случайные величины $h_1,\\ldots,h_s$ имеют полиномиальное распределение с числом испытаний $n$ и вероятностями исходов $\\mathbf{p} = (p_1,\\ldots,p_s)$. Имеем \n",
    "$$\\mathbf{P}{h_1 = n_1,\\ldots,h_s=n_s} = \\frac{n!}{n_1!\\ldots n_s!}p_1^{n_1}\\ldots p_s^{n_s}$$,\n",
    "$$n_1 + \\ldots + n_2 = n$$\n",
    "\n",
    "Так мы свели первоначальную задачу к проверке гипотезы о том, что чатсоты $\\mathbf{h} = (h_1,\\ldots,h_s)$ имеют полиномиальное распределение. В этом случае частоты $h_i$ должны быть близки к среднему значению $\\mathop{\\mathbb{E}}h_i = np_i,\\ 1,\\ldots,s$. Общее отклонение всех $h_i$ можно измерять разными способами. Чаще всего в качестве меры отклонения используют величину, введенную Пирсоном,\n",
    "$$\\mathbf{X}_n^2 = \\mathbf{X}_n^2(\\overline{h}) = \\sum_{j=1}^{s}\\frac{(h_j - np_j)^2}{np_j} = \\sum_{j=1}^{s}\\frac{h_j^2}{np_j} - n$$\n",
    "\n",
    "Величина $\\mathbf{X}_n^2$ случайная и обладает следующим важным свойством: при справедливости принятой гипотезы распределение этой величины в пределе при $n \\rightarrow \\infty$ не зависит от вектора $\\mathbf{p}$ и имеет известное распределение хи-квадрат с $s-1$ степенями свободы, т.е. при $n \\rightarrow \\infty$ для любого $x$ и постоянных $p_j > 0,\\ j=1,\\ldots,s$,\n",
    "$$\\mathbf{P}\\{\\mathbf{X}_n^2 < x\\} \\rightarrow \\mathbf{P}\\{\\chi_{s-1}^2 < x\\} $$\n",
    "\n",
    "С помощью этого результата введем следующий критерий для проверки гипотезы $H_0:\\ F_{\\xi}(x) = F(x)$. Зададим уровень значимости $\\alpha > 0$, выберем значение величины $s$, $z_1,\\ldots,z_s$ и найдем по ним значения вектора вероятностей $\\mathbf{p} = (p_1,\\ldots,p_s)$ и вектора частот $\\mathbf{h} = \\{h_1,\\ldots,h_s\\}$. Считая, что $\\mathbf{X}_n^2$ распределено согласно закону $\\chi^2(s-1)$, находим такое число $t_\\alpha$ (границу критической области критерия), что\n",
    "$$\\mathbf{P}\\{\\mathbf{X}_n^2 \\geq t_\\alpha\\} = \\alpha$$\n",
    "\n",
    "Таким образом, $t_\\alpha = \\chi_{1-\\alpha;s-1}^2$ -- ($1-\\alpha$) квантиль распределения $\\chi^2(s-1)$."
   ]
  },
  {
   "cell_type": "markdown",
   "metadata": {
    "id": "Fi7v40NDkyMR"
   },
   "source": [
    "Итак, в первую очередь определим\n",
    "1. Число исходов s?\n",
    "2. Уровень значимости дан $\\alpha = 0.05$\n",
    "3. Вычислим границу критической области для заданного уровня значимости\n",
    "4. Подсчитаем значение статистики $\\mathbf{X}_n^2(\\mathbf{h})$ при $p_1 = \\ldots = p_{10} = \\frac{1}{10}$\n",
    "5. Сравним с границей критической области, согласуются ли данные с нулевой гипотезой? Какая здесь нулевая гипотеза, а какая альтернатива?"
   ]
  },
  {
   "cell_type": "code",
   "execution_count": 2,
   "metadata": {
    "colab": {
     "base_uri": "https://localhost:8080/"
    },
    "id": "Jc4V8xeTn5-F",
    "outputId": "51dd5861-e70d-4f79-c03d-6c426bc75d19"
   },
   "outputs": [
    {
     "data": {
      "text/plain": [
       "16.918977604620448"
      ]
     },
     "execution_count": 2,
     "metadata": {},
     "output_type": "execute_result"
    }
   ],
   "source": [
    "sts.chi2.ppf(0.95, 10-1)"
   ]
  },
  {
   "cell_type": "code",
   "execution_count": 3,
   "metadata": {
    "colab": {
     "base_uri": "https://localhost:8080/"
    },
    "id": "vhPLdSDElYLH",
    "outputId": "7b64c3cf-ae05-4e13-acaf-8acd1b2ab73b"
   },
   "outputs": [
    {
     "data": {
      "text/plain": [
       "Power_divergenceResult(statistic=9.478000000000002, pvalue=0.39436959603532634)"
      ]
     },
     "execution_count": 3,
     "metadata": {},
     "output_type": "execute_result"
    }
   ],
   "source": [
    "sts.chisquare([968, \n",
    "               1026, \n",
    "               1021, \n",
    "               972, \n",
    "               1014, \n",
    "               1046, \n",
    "               1021, \n",
    "               970, \n",
    "               948, \n",
    "               1014], [1000 for i in range(10)] )"
   ]
  },
  {
   "cell_type": "code",
   "execution_count": 4,
   "metadata": {},
   "outputs": [
    {
     "data": {
      "text/plain": [
       "Power_divergenceResult(statistic=0.0, pvalue=1.0)"
      ]
     },
     "execution_count": 4,
     "metadata": {},
     "output_type": "execute_result"
    }
   ],
   "source": [
    "sts.chisquare([1000 for i in range(10)], \n",
    "              [1000 for i in range(10)])"
   ]
  },
  {
   "cell_type": "markdown",
   "metadata": {
    "id": "UTqRh9B_oenz"
   },
   "source": [
    "## Сгенерируем данные по кликам на объявления\n",
    "Параметром функции gen_events является CTR"
   ]
  },
  {
   "cell_type": "code",
   "execution_count": 5,
   "metadata": {},
   "outputs": [],
   "source": [
    "# функция генерации бинарных последовательностей\n",
    "def gen_events(p, lower_=200, upper_=250):\n",
    "    events_number = np.random.randint(lower_, upper_)\n",
    "    events = np.zeros(events_number)\n",
    "    events[np.random.rand(events_number) <= p] = 1\n",
    "    return events\n"
   ]
  },
  {
   "cell_type": "code",
   "execution_count": 6,
   "metadata": {
    "id": "kJ1Cdd-8cjGN"
   },
   "outputs": [],
   "source": [
    "adv_a = gen_events(0.35)\n",
    "adv_b = gen_events(0.33)"
   ]
  },
  {
   "cell_type": "code",
   "execution_count": 7,
   "metadata": {
    "colab": {
     "base_uri": "https://localhost:8080/"
    },
    "id": "ftILuqBncj1r",
    "outputId": "d19cd326-d921-4f5d-fbc7-c9673afc809a"
   },
   "outputs": [
    {
     "data": {
      "text/plain": [
       "(225,)"
      ]
     },
     "execution_count": 7,
     "metadata": {},
     "output_type": "execute_result"
    }
   ],
   "source": [
    "adv_a.shape"
   ]
  },
  {
   "cell_type": "code",
   "execution_count": 8,
   "metadata": {
    "colab": {
     "base_uri": "https://localhost:8080/"
    },
    "id": "DfZ4RhQedUBJ",
    "outputId": "b55ef500-0ca2-417f-ca9e-d97c6c7dc955"
   },
   "outputs": [
    {
     "data": {
      "text/plain": [
       "239"
      ]
     },
     "execution_count": 8,
     "metadata": {},
     "output_type": "execute_result"
    }
   ],
   "source": [
    "len(adv_b)"
   ]
  },
  {
   "cell_type": "markdown",
   "metadata": {
    "id": "Aeim0TIaeEZ7"
   },
   "source": [
    "\n",
    "## p-value\n",
    "### Определимся с гипотезами\n",
    "Будем так $\\hat{p}$ обозначать среднюю величину по выборке\n",
    "\n",
    "$H_0:\\ p_1 - p_2 = 0$\n",
    "\n",
    "$H_1:\\ p_1 - p_2 > 0$\n",
    "\n",
    "В случае если нулевая гипотеза верна, то \n",
    "\n",
    "$\\hat{p_1} - \\hat{p_2} \\sim \\mathbf{N}(p_1 - p_2 = 0, \\frac{\\hat{p}_1(1 - \\hat{p}_1)}{n_1} + \\frac{\\hat{p}_2(1 - \\hat{p}_2)}{n_2})$ \n",
    "\n",
    "(используем нормальное распределение, так как кол-во элементов в выборке достаточно большое, т.е мы используем так называемый *z-критерий*, хотя точнее было бы использовать *t-критерий*) "
   ]
  },
  {
   "cell_type": "code",
   "execution_count": 9,
   "metadata": {
    "colab": {
     "base_uri": "https://localhost:8080/",
     "height": 571
    },
    "id": "fxVhEflweCvR",
    "outputId": "35b6fc77-978e-4b05-ea10-994332eb316a"
   },
   "outputs": [
    {
     "name": "stdout",
     "output_type": "stream",
     "text": [
      "critical for alpha = 0.07256944106669655\n"
     ]
    },
    {
     "data": {
      "text/plain": [
       "<matplotlib.legend.Legend at 0x7fe05910f2b0>"
      ]
     },
     "execution_count": 9,
     "metadata": {},
     "output_type": "execute_result"
    },
    {
     "data": {
      "image/png": "[encoded data removed]",
      "text/plain": [
       "<Figure size 1600x900 with 1 Axes>"
      ]
     },
     "metadata": {},
     "output_type": "display_data"
    }
   ],
   "source": [
    "p1_ = np.mean(adv_a)\n",
    "n1_ = adv_a.shape[0]\n",
    "p2_ = np.mean(adv_b)\n",
    "n2_ = adv_b.shape[0]\n",
    "norm_rv = sts.norm(0, np.sqrt(p1_*(1-p1_)/n1_ + p2_*(1-p2_)/n2_))\n",
    "\n",
    "alpha = 0.05\n",
    "# строим теоретическую плотность\n",
    "x = np.linspace(-0.5,0.5,100)\n",
    "pdf = norm_rv.pdf(x)\n",
    "plt.figure(figsize=(16,9))\n",
    "plt.plot(x, pdf, label='$H_0$ distribution', alpha=0.5)\n",
    "\n",
    "q_b = norm_rv.ppf(1-alpha)\n",
    "print(\"critical for alpha = {}\".format(q_b))\n",
    "to_fill = np.linspace(q_b, 0.5, 100)\n",
    "plt.fill_between(to_fill, norm_rv.pdf(to_fill), alpha=0.5, color='red', label='critical for $\\\\alpha = {}$'.format(alpha))\n",
    "\n",
    "plt.legend()"
   ]
  },
  {
   "cell_type": "markdown",
   "metadata": {
    "id": "ousexUUprzWh"
   },
   "source": [
    "Теперь посчитаем максимально достижимый уровень значимости или p-value для альтернативной гипотезы $p_1 > p_2$\n",
    "\n",
    "Для этого нам собственно нужно посчитать значение статистики, и посмотреть куда попало ее значение, если истинна гипотеза $H_0$, а значит и распределение выше"
   ]
  },
  {
   "cell_type": "code",
   "execution_count": 10,
   "metadata": {
    "colab": {
     "base_uri": "https://localhost:8080/"
    },
    "id": "fteZkXNfdtkG",
    "outputId": "9e53bd9d-2b47-48d8-c668-08554d97a69a"
   },
   "outputs": [
    {
     "data": {
      "text/plain": [
       "-0.022315202231520226"
      ]
     },
     "execution_count": 10,
     "metadata": {},
     "output_type": "execute_result"
    }
   ],
   "source": [
    "p1_ - p2_"
   ]
  },
  {
   "cell_type": "markdown",
   "metadata": {
    "id": "QwR0XdMAt9p9"
   },
   "source": [
    "Мы видим, что значение этой разности попало в правый конец распределения. \n",
    "\n",
    "**О чем это говорит?**\n",
    "\n",
    "..."
   ]
  },
  {
   "cell_type": "code",
   "execution_count": 11,
   "metadata": {
    "colab": {
     "base_uri": "https://localhost:8080/"
    },
    "id": "ZxJPfkz_ttj2",
    "outputId": "3c1f8318-2381-49f8-edd4-d6367d32fadd"
   },
   "outputs": [
    {
     "data": {
      "text/plain": [
       "0.306500376943619"
      ]
     },
     "execution_count": 11,
     "metadata": {},
     "output_type": "execute_result"
    }
   ],
   "source": [
    "norm_rv.cdf(p1_ - p2_) # это наш достижмый уровень значимости"
   ]
  },
  {
   "cell_type": "code",
   "execution_count": 12,
   "metadata": {
    "colab": {
     "base_uri": "https://localhost:8080/",
     "height": 571
    },
    "id": "m4wRrGjFt3U9",
    "outputId": "4a40ae18-10e4-45fc-8296-d80fbf092274"
   },
   "outputs": [
    {
     "name": "stdout",
     "output_type": "stream",
     "text": [
      "critical for alpha = 0.07256944106669655\n"
     ]
    },
    {
     "data": {
      "text/plain": [
       "<matplotlib.legend.Legend at 0x7fe0598afa30>"
      ]
     },
     "execution_count": 12,
     "metadata": {},
     "output_type": "execute_result"
    },
    {
     "data": {
      "image/png": "[encoded data removed]",
      "text/plain": [
       "<Figure size 1600x900 with 1 Axes>"
      ]
     },
     "metadata": {},
     "output_type": "display_data"
    }
   ],
   "source": [
    "# p1-p2 \n",
    "q_b = norm_rv.ppf(1-alpha)\n",
    "print(\"critical for alpha = {}\".format(q_b))\n",
    "to_fill = np.linspace(q_b, 0.5, 100)\n",
    "\n",
    "plt.figure(figsize=(16,9))\n",
    "plt.fill_between(to_fill, norm_rv.pdf(to_fill), alpha=0.5, color='red', label='critical for $\\\\alpha = {}$'.format(alpha))\n",
    "plt.scatter(p1_ - p2_, 0)\n",
    "plt.plot(x, pdf, label='$H_0$ distribution', alpha=0.5)\n",
    "\n",
    "plt.legend()"
   ]
  },
  {
   "cell_type": "markdown",
   "metadata": {
    "id": "PhHD4rqS4ENK"
   },
   "source": [
    "## $\\alpha$, $\\beta$ и размер эффекта\n",
    "В примере выше невозможно установить значение величины ошибки 2-ого рода, поскольку истинное значение разности нам неизвестно (но вообще тогда зачем бы мы проводили тест)\n",
    "\n",
    "Обычно, все же АБ тесты используются для принятия решений. Например, снова нам нужно понять какое объявление показало себя лучше. Обычно все же имеет значение на сколько лучше, т.е задается ожидаемый размер эффекта. \n",
    "\n",
    "Пусть нам известен текущий CTR по объявлению 1 ($p_1$) (возьмем его за 0.35). Зная его, мы можем прикинуть какому распределению будут соовтетстовать выборочные средние (т.е $\\hat{p_1}$) при фиксированном n"
   ]
  },
  {
   "cell_type": "markdown",
   "metadata": {
    "id": "O4MZ-0zCKfby"
   },
   "source": [
    "Определимся с уровнем значимости (т.е величиной ошибки первого рода).\n",
    "\n",
    "Возьмем $\\alpha = 0.05$. В соответствии с $\\alpha$ можем также получить критическую область на нашем графике.\n",
    "\n",
    "**Обратите внимание как сдвигается пороговое значение при изменении размера выборки**"
   ]
  },
  {
   "cell_type": "code",
   "execution_count": 13,
   "metadata": {
    "colab": {
     "base_uri": "https://localhost:8080/",
     "height": 571
    },
    "id": "e9LQVJMGKRs9",
    "outputId": "5742ec63-9ffd-4f5f-808a-dd538239918f"
   },
   "outputs": [
    {
     "name": "stdout",
     "output_type": "stream",
     "text": [
      "critical for alpha = 0.5980949688741605\n"
     ]
    },
    {
     "data": {
      "text/plain": [
       "<matplotlib.legend.Legend at 0x7fe05a75db50>"
      ]
     },
     "execution_count": 13,
     "metadata": {},
     "output_type": "execute_result"
    },
    {
     "data": {
      "image/png": "[encoded data removed]",
      "text/plain": [
       "<Figure size 1600x900 with 1 Axes>"
      ]
     },
     "metadata": {},
     "output_type": "display_data"
    }
   ],
   "source": [
    "n = 10 #1000, 10000\n",
    "p1 = 0.35\n",
    "alpha = 0.05\n",
    "norm_rv_H0 = sts.norm(p1, np.sqrt(p1*(1-p1)/n))\n",
    "plt.figure(figsize=(16,9))\n",
    "x = np.linspace(0,0.7,100)\n",
    "pdf = norm_rv_H0.pdf(x)\n",
    "plt.plot(x, pdf, label='$H_0$ distribution', alpha=0.5)\n",
    "\n",
    "q_b = norm_rv_H0.ppf(1-alpha)\n",
    "print(\"critical for alpha = {}\".format(q_b))\n",
    "to_fill = np.linspace(q_b, 0.7, 100)\n",
    "plt.fill_between(to_fill, norm_rv_H0.pdf(to_fill), alpha=0.5, color='red', label='critical for $\\\\alpha = {}$'.format(alpha))\n",
    "\n",
    "plt.legend()"
   ]
  },
  {
   "cell_type": "markdown",
   "metadata": {
    "id": "z8-CMUg2LvJY"
   },
   "source": [
    "Допустим, что существенным изменением для нас будет являться изменение на одну десятую. Т.е. мы начнем массово откручивать второе объявление только при $p_2 = 0.45$. Так мы задали ожидаемый размер эффекта. Кроме того, теперь мы можем задать **простую** гипотезу в качестве альтернативы! \n",
    "\n",
    "**Вопрос: Какая здесь нулевая гипотеза, а какая альтернатива?**\n",
    "\n",
    "Ответ: ...\n",
    "\n",
    "Давайте также определимся с ошибкой 2-ого рода $\\beta$, и соответственно с мощностью критерия ($1 - \\beta$). Чем мощнее критерий, тем лучше. Мощность говорит нам о том, какую долю событий при истинности альтернативной гипотезы мы действительно отнесем к альтернативе. В нашем случае, в целом мы переживем, если окажется, что второе объявление лучше, но эксперимент даст ложно отрицательный результат. Поэтому можно взять $\\beta = 0.1$ (побольше чем ошибка 1-ого рода), здесь мы следуем стратегии \"не навреди\".\n",
    "\n",
    "Теперь когда мы определились с желаемым размером эффекта, а также с желаемыми значениями ошибок 1-ого и 2-ого рода, осталось лишь определить сколько событий нам нужно набрать, чтобы удовлетворить параметрам эксперимента. Но для начала, давайте посмотрим на то, как меняется ошибка 2-ого рода при фиксированной ошибке 1-ого рода и переменном размере выборки."
   ]
  },
  {
   "cell_type": "code",
   "execution_count": 14,
   "metadata": {
    "colab": {
     "base_uri": "https://localhost:8080/",
     "height": 588
    },
    "id": "-3vH1-qmLCt7",
    "outputId": "4882ac99-3525-4d5e-e34d-f4ec1ee9d373"
   },
   "outputs": [
    {
     "name": "stdout",
     "output_type": "stream",
     "text": [
      "c for alpha = 0.42845451776709265\n",
      "calculated beta for p2 = 0.45: 0.33247814877103066\n"
     ]
    },
    {
     "data": {
      "text/plain": [
       "<matplotlib.legend.Legend at 0x7fe05b184be0>"
      ]
     },
     "execution_count": 14,
     "metadata": {},
     "output_type": "execute_result"
    },
    {
     "data": {
      "image/png": "[encoded data removed]",
      "text/plain": [
       "<Figure size 1600x900 with 1 Axes>"
      ]
     },
     "metadata": {},
     "output_type": "display_data"
    }
   ],
   "source": [
    "n = 100 #n_max\n",
    "p1 = 0.35\n",
    "p2 = 0.45\n",
    "alpha = 0.05\n",
    "norm_rv_H0 = sts.norm(p1, np.sqrt(p1*(1-p1)/n))\n",
    "norm_rv_H1 = sts.norm(p2, np.sqrt(p2*(1-p2)/n))\n",
    "\n",
    "plt.figure(figsize=(16,9))\n",
    "\n",
    "x = np.linspace(0,0.7,100)\n",
    "pdf = norm_rv_H0.pdf(x)\n",
    "plt.plot(x, pdf, label='$H_0$ distribution', alpha=0.5)\n",
    "\n",
    "q_b = norm_rv_H0.ppf(1-alpha)\n",
    "print(\"c for alpha = {}\".format(q_b))\n",
    "to_fill = np.linspace(q_b, 0.7, 100)\n",
    "plt.fill_between(to_fill, norm_rv_H0.pdf(to_fill), alpha=0.5, color='red', label='critical for $\\\\alpha = {}$'.format(alpha))\n",
    "\n",
    "x = np.linspace(0,0.9,100)\n",
    "pdf = norm_rv_H1.pdf(x)\n",
    "plt.plot(x, pdf, label='$H_1$ distribution', alpha=0.5)\n",
    "\n",
    "beta = norm_rv_H1.cdf(q_b)\n",
    "q_a = norm_rv_H1.ppf(norm_rv_H1.cdf(q_b))\n",
    "print(\"calculated beta for p2 = {}: {}\".format(p2, beta))\n",
    "to_fill = np.linspace(0, q_a, 100)\n",
    "plt.fill_between(to_fill, norm_rv_H1.pdf(to_fill), alpha=0.5, color='blue', label='$\\\\beta = {}$'.format(beta))\n",
    "\n",
    "plt.legend()"
   ]
  },
  {
   "cell_type": "markdown",
   "metadata": {
    "id": "h05Okt0kPleu"
   },
   "source": [
    "### Мы можем вычислить кол-во событий, а также порог для принятия решения с заданными параметрами эксперимента, решив следующую систему уравнений\n",
    "\n",
    "$$\n",
    "c = p_1 + \\zeta_{\\alpha}\\sqrt{\\frac{p_1(1-p_1)}{n}} \\\\\n",
    "c = p_2 + \\zeta_{\\beta}\\sqrt{\\frac{p_2(1-p_2)}{n}}\n",
    "$$\n",
    "\n",
    "В качестве небольшой разминки, предлагается решить эту систему относительно $n$"
   ]
  },
  {
   "cell_type": "code",
   "execution_count": 15,
   "metadata": {
    "colab": {
     "base_uri": "https://localhost:8080/"
    },
    "id": "KVktYx2kOuOT",
    "outputId": "f6decd10-4e01-4c3e-b0d3-68e42b926f17"
   },
   "outputs": [
    {
     "name": "stdout",
     "output_type": "stream",
     "text": [
      "Требуемое кол-во событий 252\n",
      "Отклоняем нулевую гипотезу впользу альтернативы при значении CTR = 0.40888958870268227\n"
     ]
    }
   ],
   "source": [
    "def get_size(theta_c, theta_t, alpha, beta):\n",
    "    # вычисляем квантили нормального распределения\n",
    "    t_alpha = sts.norm.ppf(1 - alpha, loc=0, scale=1)\n",
    "    t_beta = sts.norm.ppf(beta, loc=0, scale=1)\n",
    "    # решаем уравнение относительно n\n",
    "    n = t_alpha*np.sqrt(theta_t*(1 - theta_t))\n",
    "    n -= t_beta*np.sqrt(theta_c*(1 - theta_c))\n",
    "    n /= theta_c - theta_t\n",
    "    return int(np.ceil(n*n))\n",
    "\n",
    "alpha = 0.025\n",
    "beta = 0.1\n",
    "\n",
    "\n",
    "n_max = get_size(p1, p2, alpha, beta)\n",
    "print(\"Требуемое кол-во событий {}\".format(n_max))\n",
    "# выводим порог, выше которого отклоняется H_0\n",
    "print(\"Отклоняем нулевую гипотезу впользу альтернативы при значении CTR = {}\".format(p1 + sts.norm.ppf(1 - alpha, loc=0, scale=1)*np.sqrt(p1*(1 - p1)/n_max)))\n"
   ]
  },
  {
   "cell_type": "markdown",
   "metadata": {},
   "source": [
    "## T-test (альтернативный способ)"
   ]
  },
  {
   "cell_type": "code",
   "execution_count": 16,
   "metadata": {
    "id": "T-_JtX1QS6GL"
   },
   "outputs": [
    {
     "name": "stdout",
     "output_type": "stream",
     "text": [
      "TtestResult(statistic=-34.38258837540252, pvalue=1.1869637290531993e-133, df=498.4687916189035)\n"
     ]
    },
    {
     "data": {
      "text/plain": [
       "ConfidenceInterval(low=-0.10026611255229466, high=-0.08942645377272997)"
      ]
     },
     "execution_count": 16,
     "metadata": {},
     "output_type": "execute_result"
    }
   ],
   "source": [
    "n = 252 # n_max\n",
    "p1 = 0.35\n",
    "p2 = 0.45\n",
    "rng = np.random.default_rng()\n",
    "norm_rv_H0 = sts.norm.rvs(p1, np.sqrt(p1*(1-p1)/n), size=n, random_state=rng)\n",
    "norm_rv_H1 = sts.norm.rvs(p2, np.sqrt(p2*(1-p2)/n), size=n, random_state=rng)\n",
    "TtestResult = sts.ttest_ind(norm_rv_H0, norm_rv_H1, equal_var=False)\n",
    "print(TtestResult)\n",
    "TtestResult.confidence_interval(.95)"
   ]
  },
  {
   "cell_type": "markdown",
   "metadata": {},
   "source": [
    "## А как в реальности? \n",
    "\n",
    "Что делать, если выборки скошены?"
   ]
  },
  {
   "cell_type": "code",
   "execution_count": 17,
   "metadata": {},
   "outputs": [
    {
     "name": "stdout",
     "output_type": "stream",
     "text": [
      "Сравнение через параметры нормального распределения\n",
      "p-value = 2.280410506044179e-09\n",
      "ConfidenceInterval(low=-0.00013664215850503, high=-6.917262931138487e-05)\n",
      "\n",
      "Сравнение через параметры распределения Бернулли\n",
      "p-value = 0.859862674091919\n",
      "ConfidenceInterval(low=-0.003030618022934638, high=0.0036306180229346376)\n"
     ]
    }
   ],
   "source": [
    "# сначала TTest\n",
    "n = 10000\n",
    "p1 = .015  \n",
    "p2 = .0151 # совсем небольшое отличие\n",
    "norm_rv_H0 = sts.norm.rvs(p1, np.sqrt(p1*(1-p1)/n), size=n) \n",
    "norm_rv_H1 = sts.norm.rvs(p2, np.sqrt(p2*(1-p2)/n), size=n) \n",
    "TtestResult = sts.ttest_ind(norm_rv_H0, norm_rv_H1, equal_var=False) # сначала TTest\n",
    "print('Сравнение через параметры нормального распределения')\n",
    "print(f'p-value = {TtestResult.pvalue}')\n",
    "print(TtestResult.confidence_interval(.95))\n",
    "bernoulli_rv_H0 = sts.bernoulli.rvs(p1, size=n) \n",
    "bernoulli_rv_H1 = sts.bernoulli.rvs(p2, size=n) \n",
    "TtestResult = sts.ttest_ind(bernoulli_rv_H0, bernoulli_rv_H1, equal_var=False) \n",
    "print('\\nСравнение через параметры распределения Бернулли')\n",
    "print(f'p-value = {TtestResult.pvalue}') # В случае ошибки/экстремальных значений перезапустить тест\n",
    "print(TtestResult.confidence_interval(.95))"
   ]
  },
  {
   "cell_type": "markdown",
   "metadata": {},
   "source": [
    "###### _скошенные распределения не сравниваются через параметры нормального распределения_\n",
    "\n",
    "\n",
    "### _Используем метод Вилсона (Wilson)_"
   ]
  },
  {
   "cell_type": "code",
   "execution_count": 18,
   "metadata": {},
   "outputs": [],
   "source": [
    "from statsmodels.stats.proportion import proportion_confint as pc"
   ]
  },
  {
   "cell_type": "code",
   "execution_count": 19,
   "metadata": {},
   "outputs": [
    {
     "name": "stdout",
     "output_type": "stream",
     "text": [
      "ДИ последовательности A: (0.013928239599961496, 0.02252253321300215), n₁=3668, ΔA=0.008594293613040656\n",
      "ДИ последовательности B: (0.009773712277869575, 0.014236567170902978), n₂=9069, ΔB=0.004462854893033403\n"
     ]
    }
   ],
   "source": [
    "# Создаем две скошенные последовательности и вычисляем доверительные интервалы\n",
    "n_min = 2200 #9900\n",
    "p1 = .014  \n",
    "p2 = .0125\n",
    "A = gen_events(p=p1, lower_=n_min, upper_=n)\n",
    "B = gen_events(p=p2, lower_=n_min, upper_=n)\n",
    "n1 = len(A)\n",
    "n2 = len(B)\n",
    "conf_A = pc(sum(A), n1, alpha=0.05, method='wilson')\n",
    "conf_B = pc(sum(B), n2, alpha=0.05, method='wilson')\n",
    "# интервальные оценки для эксперементальных выборок\n",
    "print(f\"ДИ последовательности A: {conf_A}, n\\u2081={n1}, \\u0394A={conf_A[1]-conf_A[0]}\")\n",
    "print(f\"ДИ последовательности B: {conf_B}, n\\u2082={n2}, \\u0394B={conf_B[1]-conf_B[0]}\")"
   ]
  },
  {
   "cell_type": "markdown",
   "metadata": {},
   "source": [
    "##### _см. выше_\n",
    "\n",
    "$H_0:\\ p_1 - p_2 = 0$\n",
    "\n",
    "$H_1:\\ p_1 - p_2 > 0$\n",
    "\n",
    "В случае если нулевая гипотеза верна, то \n",
    "\n",
    "$\\hat{p_1} - \\hat{p_2} \\sim \\mathbf{N}(p_1 - p_2 = 0, \\frac{\\hat{p}_1(1 - \\hat{p}_1)}{n_1} + \\frac{\\hat{p}_2(1 - \\hat{p}_2)}{n_2})$ "
   ]
  },
  {
   "cell_type": "code",
   "execution_count": 20,
   "metadata": {},
   "outputs": [
    {
     "name": "stdout",
     "output_type": "stream",
     "text": [
      "Экспериментальные значения p̂₁=0.01772082878953108 и p̂₂=0.01179843422648583\n",
      "Доверительный интервал 0.0011090177149612043 ... 0.010735771411129295\n"
     ]
    }
   ],
   "source": [
    "# Строим доверительный интервал отличия двух эксперементальных выборок\n",
    "alpha = .05\n",
    "z = sts.norm.ppf(1-alpha/2)\n",
    "p1_ = np.mean(A) \n",
    "p2_ = np.mean(B) \n",
    "p__ = '\\u0070\\u0302' # \"p\" с крышечкой\n",
    "print (f\"Экспериментальные значения {p__}\\u2081={p1_} и {p__}\\u2082={p2_}\")\n",
    "lower_bond = (p1_ - p2_) - z*np.sqrt(p1_*(1-p1_)/n1 + p2_*(1-p2_)/n2)\n",
    "upper_bond = (p1_ - p2_) + z*np.sqrt(p1_*(1-p1_)/n1 + p2_*(1-p2_)/n2)\n",
    "print (f\"Доверительный интервал {lower_bond} ... {upper_bond}\")"
   ]
  },
  {
   "cell_type": "markdown",
   "metadata": {},
   "source": [
    "#### Оценим p-value\n",
    "\n",
    "$$Z-статистика: Z({X_1, X_2}) =  \\frac{\\hat{p}_1 - \\hat{p}_2}{\\sqrt{P(1 - P)(\\frac{1}{n_1} + \\frac{1}{n_2})}}$$\n",
    "\n",
    "\n",
    "  $$P = \\frac{\\hat{p}_1{n_1} + \\hat{p}_2{n_2}}{{n_1} + {n_2}} $$"
   ]
  },
  {
   "cell_type": "markdown",
   "metadata": {},
   "source": [
    "#### считаем p-value"
   ]
  },
  {
   "cell_type": "code",
   "execution_count": 21,
   "metadata": {},
   "outputs": [
    {
     "data": {
      "text/plain": [
       "0.18980971017658899"
      ]
     },
     "execution_count": 21,
     "metadata": {},
     "output_type": "execute_result"
    }
   ],
   "source": [
    "P = float(p1_*n1 + p2_*n2) / (n1 + n2)\n",
    "# двустронняя альтернатива, неизвестно есть ли вообще отличие, большое p-value в пользу H0\n",
    "Z_stat = (p1_ - p2_) / np.sqrt(P * (1 - P) * (1. / n1 + 1. / n2))\n",
    "p_value = 2 * (1 - sts.norm.cdf(np.abs(Z_stat/2)))\n",
    "p_value"
   ]
  },
  {
   "cell_type": "code",
   "execution_count": 22,
   "metadata": {},
   "outputs": [
    {
     "data": {
      "text/plain": [
       "0.9956328756232063"
      ]
     },
     "execution_count": 22,
     "metadata": {},
     "output_type": "execute_result"
    }
   ],
   "source": [
    "sts.norm.cdf(Z_stat) #less"
   ]
  },
  {
   "cell_type": "code",
   "execution_count": 23,
   "metadata": {},
   "outputs": [
    {
     "data": {
      "text/plain": [
       "0.004367124376793652"
      ]
     },
     "execution_count": 23,
     "metadata": {},
     "output_type": "execute_result"
    }
   ],
   "source": [
    "1-sts.norm.cdf(Z_stat) #greater"
   ]
  },
  {
   "cell_type": "markdown",
   "metadata": {},
   "source": [
    "### Небольшие выборки\n",
    "### непараметрический тест\n",
    "### U-тест Манна-Уитни"
   ]
  },
  {
   "cell_type": "code",
   "execution_count": 24,
   "metadata": {},
   "outputs": [],
   "source": [
    "import statsmodels.stats.weightstats as ssw"
   ]
  },
  {
   "cell_type": "code",
   "execution_count": 25,
   "metadata": {},
   "outputs": [
    {
     "name": "stdout",
     "output_type": "stream",
     "text": [
      "95% доверительный интервал для 1й последовательности  (4.0436998036179626, 19.20630019638204)\n",
      "95% доверительный интервал для 2й последовательности  (20.91067867443465, 24.58932132556535)\n"
     ]
    }
   ],
   "source": [
    "# задаем значения сравниваемых выборок\n",
    "sample1 = [2, 2, 21, 2, 0, 24, 23, 19]\n",
    "sample2 = [24, 25, 21, 22, 23, 18, 17, 28, 24, 27, 21, 23]\n",
    "print (\"95% доверительный интервал для 1й последовательности \", ssw.zconfint(sample1))\n",
    "print (\"95% доверительный интервал для 2й последовательности \", ssw.zconfint(sample2))"
   ]
  },
  {
   "cell_type": "code",
   "execution_count": 26,
   "metadata": {},
   "outputs": [],
   "source": [
    "# Функция запуска теста Манна-Уитни с разными альтернативами\n",
    "def u_test (s1=sample1, s2=sample2):\n",
    "    alternatives = ['less', 'greater', 'two-sided']\n",
    "    for a in alternatives:\n",
    "        print (f\"\\nДля альтенативы {a}\", sts.mannwhitneyu (s1, s2, alternative=a))"
   ]
  },
  {
   "cell_type": "code",
   "execution_count": 27,
   "metadata": {},
   "outputs": [
    {
     "name": "stdout",
     "output_type": "stream",
     "text": [
      "\n",
      "Для альтенативы less MannwhitneyuResult(statistic=19.0, pvalue=0.01347748531299657)\n",
      "\n",
      "Для альтенативы greater MannwhitneyuResult(statistic=19.0, pvalue=0.9889832318147022)\n",
      "\n",
      "Для альтенативы two-sided MannwhitneyuResult(statistic=19.0, pvalue=0.02695497062599314)\n"
     ]
    }
   ],
   "source": [
    "# Запускает тест Манна-Уитни (U-test)\n",
    "u_test()\n"
   ]
  },
  {
   "cell_type": "code",
   "execution_count": 28,
   "metadata": {},
   "outputs": [
    {
     "name": "stdout",
     "output_type": "stream",
     "text": [
      "95% доверительный интервал для 1й последовательности  (0.515441922005136, 2.1623358557726418)\n",
      "95% доверительный интервал для 2й последовательности  (1.9846227960011762, 2.0393772039988236)\n",
      "\n",
      "Для альтенативы less MannwhitneyuResult(statistic=20.0, pvalue=0.02263302731382631)\n",
      "\n",
      "Для альтенативы greater MannwhitneyuResult(statistic=20.0, pvalue=0.9814151431860718)\n",
      "\n",
      "Для альтенативы two-sided MannwhitneyuResult(statistic=20.0, pvalue=0.04526605462765262)\n"
     ]
    }
   ],
   "source": [
    "# Задаем значения сравниваемых визуально похожих выборок\n",
    "sample1 = [ .5, .7, .8, 1.1, 1.5, 0.3, 3.3 , 3.6, .25]\n",
    "sample2 = [2,2,2.01, 1.99, 1.98, 2.07, 2.1, 1.95,1.99, 2.03 ]\n",
    "print (\"95% доверительный интервал для 1й последовательности \", ssw.zconfint(sample1))\n",
    "print (\"95% доверительный интервал для 2й последовательности \", ssw.zconfint(sample2))\n",
    "# Запускает тест Манна-Уитни (U-test)\n",
    "u_test(sample1, sample2)"
   ]
  },
  {
   "cell_type": "code",
   "execution_count": 29,
   "metadata": {},
   "outputs": [
    {
     "name": "stdout",
     "output_type": "stream",
     "text": [
      "95% доверительный интервал для 1й последовательности  (20.7640025667556, 22.358219655466627)\n",
      "95% доверительный интервал для 2й последовательности  (-10.32184294990465, 15.91784294990465)\n",
      "\n",
      "Для альтенативы less MannwhitneyuResult(statistic=68.0, pvalue=0.9727060605126291)\n",
      "\n",
      "Для альтенативы greater MannwhitneyuResult(statistic=68.0, pvalue=0.03285852064161489)\n",
      "\n",
      "Для альтенативы two-sided MannwhitneyuResult(statistic=68.0, pvalue=0.06571704128322978)\n"
     ]
    }
   ],
   "source": [
    "# Задаем значения сравниваемых визуально НЕпохожих выборок\n",
    "sample1 = [ 20.5, 20.7, 20.8, 21.1, 21.5, 20.3, 23.3 , 23.6, 22.25]\n",
    "sample2 = [-20.5,-20.7,-20.8, -21.1, 21.5, 20.3, 23.3 , 23.6, 2.25, 20.13,]\n",
    "print (\"95% доверительный интервал для 1й последовательности \", ssw.zconfint(sample1))\n",
    "print (\"95% доверительный интервал для 2й последовательности \", ssw.zconfint(sample2))\n",
    "# Запускает тест Манна-Уитни (U-test)\n",
    "u_test(sample1, sample2) "
   ]
  },
  {
   "cell_type": "code",
   "execution_count": 30,
   "metadata": {},
   "outputs": [
    {
     "name": "stdout",
     "output_type": "stream",
     "text": [
      "\n",
      "Для альтенативы less MannwhitneyuResult(statistic=22.0, pvalue=0.03285852064161489)\n",
      "\n",
      "Для альтенативы greater MannwhitneyuResult(statistic=22.0, pvalue=0.9727060605126291)\n",
      "\n",
      "Для альтенативы two-sided MannwhitneyuResult(statistic=22.0, pvalue=0.06571704128322978)\n"
     ]
    }
   ],
   "source": [
    "# Поменяем местами примеры и посмотрим результат\n",
    "u_test(sample2, sample1)"
   ]
  },
  {
   "cell_type": "code",
   "execution_count": null,
   "metadata": {},
   "outputs": [],
   "source": []
  }
 ],
 "metadata": {
  "colab": {
   "collapsed_sections": [],
   "name": "master.ipynb",
   "provenance": []
  },
  "kernelspec": {
   "display_name": "Python 3 (ipykernel)",
   "language": "python",
   "name": "python3"
  },
  "language_info": {
   "codemirror_mode": {
    "name": "ipython",
    "version": 3
   },
   "file_extension": ".py",
   "mimetype": "text/x-python",
   "name": "python",
   "nbconvert_exporter": "python",
   "pygments_lexer": "ipython3",
   "version": "3.9.13"
  }
 },
 "nbformat": 4,
 "nbformat_minor": 1
}
